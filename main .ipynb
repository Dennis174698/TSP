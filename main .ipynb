{
 "cells": [
  {
   "cell_type": "code",
   "execution_count": null,
   "metadata": {},
   "outputs": [],
   "source": [
    "# -*- coding: utf-8 -*-\n",
    "import matplotlib.pyplot as plt\n",
    "import numpy as np\n",
    "import random\n",
    "import fun"
   ]
  },
  {
   "cell_type": "code",
   "execution_count": null,
   "metadata": {},
   "outputs": [],
   "source": [
    "# read map\n",
    "XY = np.random.randint(1,100,(20,2))    #20 dots with (x,y)\n",
    "N = XY.shape[0]                         \n"
   ]
  },
  {
   "cell_type": "code",
   "execution_count": null,
   "metadata": {},
   "outputs": [],
   "source": [
    "# Perameters of ACO\n",
    "MaxGen=100 #Iteration\n",
    "popsize=20 #population of ants\n",
    "alpha=4    #α\n",
    "beta=1     #β\n",
    "rho=0.5    #ρ\n",
    "Q=5        #q\n",
    "#acoValues = np.zeros([MaxGen * popsize, 2])   # \n"
   ]
  },
  {
   "cell_type": "markdown",
   "metadata": {},
   "source": [
    "Set up map and perameters of ACO"
   ]
  },
  {
   "cell_type": "code",
   "execution_count": null,
   "metadata": {},
   "outputs": [],
   "source": [
    "# distance\n",
    "dmat=np.zeros([N,N])\n",
    "\n",
    "for i in range(0,N-1):\n",
    "    for j in range(i+1,N):\n",
    "        d=np.linalg.norm(XY[i,:]-XY[j,:])   #sqrt((x1-x2)²+(y1-y2)²))\n",
    "        dmat[i,j]=d                         \n",
    "        dmat[j,i]=d                         #generate the distance between every dots\n",
    "temp = dmat.copy()\n",
    "dmat[temp==0.0] = np.spacing(1)             #\n"
   ]
  },
  {
   "cell_type": "markdown",
   "metadata": {},
   "source": [
    "Count distance between nodes"
   ]
  },
  {
   "cell_type": "code",
   "execution_count": null,
   "metadata": {},
   "outputs": [],
   "source": [
    "# Herustic value\n",
    "Eta=np.zeros([N,N])\n",
    "for i in range(N):\n",
    "    for j in range(N):\n",
    "        Eta[i,j]=1/(dmat[i,j]) \n",
    "        \n",
    "index0 = np.arange(0,N)\n",
    "Tau=np.ones([N,N])*0.1            # Initiate pheromone map\n",
    "tracemataco=np.zeros([MaxGen,2])    \n"
   ]
  },
  {
   "cell_type": "markdown",
   "metadata": {},
   "source": [
    "Set up herustic value\n"
   ]
  },
  {
   "cell_type": "code",
   "execution_count": null,
   "metadata": {},
   "outputs": [],
   "source": [
    "# ACOmap\n",
    "for gen in range(0,MaxGen):                   #Iteration\n",
    "    RouteData=np.zeros([popsize,N])\n",
    "    for m in range(0,popsize):\n",
    "        OpNodeSetLocal=index0                 \n",
    "        Route=np.random.randint(0,N-1,[1,1]) #Initiate start point \n",
    "        currNode=Route[-1]\n",
    "        temp = OpNodeSetLocal.tolist()        #array to list\n",
    "        temp.remove(currNode)               \n",
    "        OpNodeSetLocal = np.array(temp)      #list to array\n",
    "        \n",
    "        while len(OpNodeSetLocal)!= 0:\n",
    "            long1=len(OpNodeSetLocal)\n",
    "            P=np.zeros([long1,1])\n",
    "            # Probability of choosing next city\n",
    "            for i in range(long1):\n",
    "                tempnextnode=OpNodeSetLocal[i]\n",
    "                P[i]=(Tau[currNode,tempnextnode]**alpha)*(Eta[currNode,tempnextnode]**beta)     #𝑠𝑐𝑜𝑟𝑒 = 𝑝ℎ𝑒𝑟𝑜𝑚𝑜𝑛𝑒𝛼**α ∗ ℎ𝑒𝑢𝑟𝑖𝑠𝑡𝑖𝑐**β\n",
    "            P = P/sum(P)                                         \n",
    "            Pc = np.cumsum(P)                                    #Pc[i]=P[i]+P[i-1]+..+P[0]\n",
    "\n",
    "            rand = np.random.rand()                              #random number(0,1)\n",
    "            index02 = np.argwhere(Pc >= rand)                    #returns the indices where Pc[i]>=rand  \n",
    "            next_node = OpNodeSetLocal[index02[0]]               #choosing nextnode\n",
    "            Route=np.append(Route,next_node)                     #update nodes\n",
    "            currNode=Route[-1]                                   \n",
    "            temp = OpNodeSetLocal.tolist()                          \n",
    "            temp.remove(currNode)\n",
    "            OpNodeSetLocal = np.array(temp)                      #remove currNode\n",
    "            \n",
    "        RouteData[m,:]=Route                                     #The ants' visiting sequence\n",
    "        \n",
    "        \n",
    "#%%\n",
    "    cost= fun.decodingFun(RouteData,popsize,dmat,N)              #calculate the cost of every route\n",
    "    v1 = np.min(cost)                                            #find the minimum cost of the routes\n",
    "    index1 = np.where(cost == v1)[0]                             \n",
    "    #for k in range(len(cost)):\n",
    "    #   acoValues[gen * k, 1]= cost[k]                           #update acoValues\n",
    "        \n",
    "    bestRoute=RouteData[index1,:]                                #find the best route of every iteration\n",
    "    costu = fun.mapminmax(cost,100,200)                          #Normalise the scores into the range [100, 200].\n",
    "    \n",
    "    \n",
    "#%%\n",
    "    detaTau=np.zeros([N,N])\n",
    "    for m in range(popsize):\n",
    "        Route=RouteData[m,:]\n",
    "        for i in range(0,N-2):\n",
    "            node1=int(Route[i])\n",
    "            node2=int(Route[i+1])\n",
    "            detaTau[node1,node2]=Q/costu[m]                     #𝑞 / 𝑠𝑐𝑎𝑙𝑒𝑑 𝑠𝑐𝑜𝑟𝑒 pheromone to each path on the route\n",
    "    Tau=Tau*(1-rho)+detaTau\n",
    "#%%\n",
    "    if (gen==0):\n",
    "        bestroute=RouteData[int(index1),:]\n",
    "        bestvalueaco=v1\n",
    "    if (bestvalueaco>v1):\n",
    "        bestvalueaco=v1                                        #best value of every iteration\n",
    "        bestroute=RouteData[int(index1),:]\n",
    "    tracemataco[gen,0]=bestvalueaco                            # Keep the best value\n",
    "    tracemataco[gen,1]=np.mean(cost)                           # mean value\n"
   ]
  },
  {
   "cell_type": "code",
   "execution_count": null,
   "metadata": {},
   "outputs": [],
   "source": [
    "#%%        \n",
    "plt.plot(tracemataco[:,0],'r-')\n",
    "plt.plot(tracemataco[:,1],'b-')\n",
    "plt.savefig('exp01.jpg')\n",
    "\n",
    "fun.drawroutetsp(XY,bestroute)\n",
    "for i in range(XY.shape[0]):\n",
    "    plt.text(XY[i,0],XY[i,1],str(i))\n",
    "    plt.savefig('exp02.jpg')\n",
    "  \n",
    "   "
   ]
  },
  {
   "cell_type": "code",
   "execution_count": null,
   "metadata": {},
   "outputs": [],
   "source": []
  }
 ],
 "metadata": {
  "kernelspec": {
   "display_name": "Python 3",
   "language": "python",
   "name": "python3"
  },
  "language_info": {
   "codemirror_mode": {
    "name": "ipython",
    "version": 3
   },
   "file_extension": ".py",
   "mimetype": "text/x-python",
   "name": "python",
   "nbconvert_exporter": "python",
   "pygments_lexer": "ipython3",
   "version": "3.7.3"
  }
 },
 "nbformat": 4,
 "nbformat_minor": 2
}
